{
 "cells": [
  {
   "cell_type": "code",
   "execution_count": null,
   "metadata": {
    "collapsed": true
   },
   "outputs": [],
   "source": [
    "\"\"\"\n",
    "Query\n",
    "Queries serão o nosso modo de requisição de dados, compostos por duas partes:\n",
    "\n",
    "get(): Dados a serem resgatados a respeito de determinadas entidades;\n",
    "for(): Universo contendo as entidades para basear sua query.\n",
    "\n",
    "Conceitos importantes\n",
    "Data items: tipo de dado resgatado (ex. último preço, receita de vendas, lucro bruto);\n",
    "IDs: Universo/entidade a ser analisada (ticker/nome do ativo, security/título financeiro, group);\n",
    "Colunas associadas: colunas retornadas junto com o valor do item (ex. data e câmbio).\n",
    "\n",
    "\"\"\"\n",
    "#Exemplo: \n",
    "get(PX_LAST(start='2019-04-28',end='2019-04-30'), CUR_MKT_CAP(dates=range(-3D, 0D, frq=D, frqstep=2)), ID() )\n",
    "for(['DIS US Equity', 'BAC US Equity', 'PETR4 BZ Equity'])"
   ]
  }
 ],
 "metadata": {
  "kernelspec": {
   "display_name": "Python 3",
   "language": "python",
   "name": "python3"
  },
  "language_info": {
   "codemirror_mode": {
    "name": "ipython",
    "version": 2
   },
   "file_extension": ".py",
   "mimetype": "text/x-python",
   "name": "python",
   "nbconvert_exporter": "python",
   "pygments_lexer": "ipython2",
   "version": "2.7.6"
  }
 },
 "nbformat": 4,
 "nbformat_minor": 0
}