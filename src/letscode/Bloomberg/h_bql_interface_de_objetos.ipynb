{
 "cells": [
  {
   "cell_type": "code",
   "execution_count": null,
   "metadata": {
    "collapsed": true
   },
   "outputs": [],
   "source": [
    "#Roteiro\n",
    "#1) Importar biblioteca BQL usando import bql\n",
    "\n",
    "#Mesmo que Numpy, Pandas, Matplotlib...\n",
    "\n",
    "#2) Instanciar objeto da classe Service usando bq = bql.Service()\n",
    "\n",
    "#Vamos chamar métodos dessa classe através do objeto.\n",
    "\n",
    "#3) Definir data item para o request usando item = bq.data.field(argumentos)\n",
    "\n",
    "#Este é um método da nossa classe bql.Service.\n",
    "\n",
    "#4) Instanciar objeto da classe Request usando request = bql.Request(entidades, item)\n",
    "\n",
    "#Isso gerará um request com determinadas entidades financeiras no argumento.\n",
    "\n",
    "#5) Instanciar a execução de um request em uma variável usando response = bq.execute(request)\n",
    "\n",
    "#Essa variável recebe todos os dados que vamos analisar e poderá ser convertida em um dataframe.\n",
    "\n",
    "#Exemplo\n",
    "# Importando biblioteca\n",
    "import bql\n",
    "\n",
    "# Instanciando objeto\n",
    "bq = bql.Service()\n",
    "\n",
    "# Especificando range de datas\n",
    "date_range = bq.func.range('2020-05-10', '2020-05-15')\n",
    "\n",
    "# Declarando data items\n",
    "item = bq.data.px_last(dates=date_range)\n",
    "item2 = bq.data.px_open(dates=date_range)\n",
    "items = [item, item2]\n",
    "\n",
    "\n",
    "# Declarando universo\n",
    "univ = ['FB US Equity', 'IBM US Equity']\n",
    "\n",
    "# Definindo request por objeto\n",
    "request = bql.Request(univ, items)\n",
    "\n",
    "# Executando request\n",
    "resposta = bq.execute(request)\n",
    "\n",
    "# Convertendo para um dataframe\n",
    "#df = resposta[0].df()\n",
    "df = bql.combined_df(resposta)\n",
    "\n",
    "df.head()\n"
   ]
  }
 ],
 "metadata": {
  "kernelspec": {
   "display_name": "Python 3",
   "language": "python",
   "name": "python3"
  },
  "language_info": {
   "codemirror_mode": {
    "name": "ipython",
    "version": 2
   },
   "file_extension": ".py",
   "mimetype": "text/x-python",
   "name": "python",
   "nbconvert_exporter": "python",
   "pygments_lexer": "ipython2",
   "version": "2.7.6"
  }
 },
 "nbformat": 4,
 "nbformat_minor": 0
}