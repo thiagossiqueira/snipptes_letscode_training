{
 "cells": [
  {
   "cell_type": "code",
   "execution_count": null,
   "metadata": {
    "collapsed": true
   },
   "outputs": [],
   "source": [
    "#Múltiplas barras empilhadas\n",
    "import pandas as pd\n",
    "import numpy as np\n",
    "import matplotlib.pyplot as plt\n",
    "%matplotlib inline\n",
    "\n",
    "# Importando dados\n",
    "df = pd.read_csv('microsoft.csv')\n",
    "date = df.loc[0:10]['Date']\n",
    "open = df.loc[0:10]['Open']\n",
    "close = df.loc[0:10]['Close']\n",
    "high = df.loc[0:10]['High']\n",
    "\n",
    "# Criando as três barras empilhadas\n",
    "plt.bar(date, open, label='Open')\n",
    "plt.bar(date, high, label='High')\n",
    "plt.bar(date, close, label='Close')\n",
    "\n",
    "# Labels e tick params\n",
    "plt.xlabel('Data')\n",
    "plt.ylabel('Preço')\n",
    "plt.title('Preço por data')\n",
    "plt.legend()\n",
    "plt.tick_params(axis='x', rotation=70)\n",
    "\n",
    "#Múltiplas barras lado a lado\n",
    "# Definindo espessura para barras\n",
    "espessura = 0.25\n",
    "\n",
    "# Criando array com índices numéricos da variavel \"date\"\n",
    "date_indexes = np.arange(len(date))\n",
    "\n",
    "# A primeira barra é deslocada em 0.25 para a esquerda\n",
    "plt.bar(date_indexes-espessura, open, width=espessura, label='Open')\n",
    "\n",
    "# A segunda barra é deixada no meio\n",
    "plt.bar(date_indexes, high, width=espessura, label='High')\n",
    "\n",
    "# A ultima barra é deslocada em 0.25 para a direita\n",
    "plt.bar(date_indexes+espessura, close, width=espessura, label='Close')\n",
    "\n",
    "# Labels e tick params\n",
    "plt.xlabel('Data')\n",
    "plt.ylabel('Preço')\n",
    "plt.title('Preço por data')\n",
    "plt.legend()\n",
    "plt.tick_params(axis='x', rotation=70)\n",
    "\n",
    "# Queremos mudar os ticks do eixo x como os valores da variável \"date\", e não seus indices\n",
    "plt.xticks(ticks=date_indexes, labels=date)"
   ]
  }
 ],
 "metadata": {
  "kernelspec": {
   "display_name": "Python 3",
   "language": "python",
   "name": "python3"
  },
  "language_info": {
   "codemirror_mode": {
    "name": "ipython",
    "version": 2
   },
   "file_extension": ".py",
   "mimetype": "text/x-python",
   "name": "python",
   "nbconvert_exporter": "python",
   "pygments_lexer": "ipython2",
   "version": "2.7.6"
  }
 },
 "nbformat": 4,
 "nbformat_minor": 0
}