{
 "cells": [
  {
   "cell_type": "code",
   "execution_count": null,
   "metadata": {
    "collapsed": true
   },
   "outputs": [],
   "source": [
    "#Dispersões com mapa de cores\n",
    "import numpy as np\n",
    "import pandas as pd\n",
    "import matplotlib.pyplot as plt\n",
    "%matplotlib inline\n",
    "\n",
    "\n",
    "# Importando dados\n",
    "df = pd.read_csv('microsoft.csv')\n",
    "date = df.loc[0:10]['Date']\n",
    "open = df.loc[0:10]['Open']\n",
    "volume = df.loc[0:10]['Volume']\n",
    "\n",
    "\n",
    "# Criando dispersão com mapa de cor correspondente ao volume\n",
    "plt.scatter(date, open, c=volume, cmap='summer')\n",
    "\n",
    "# Criando objeto com colorbar\n",
    "cbar = plt.colorbar()\n",
    "\n",
    "# Criando label para a colorbar\n",
    "cbar.set_label('Volume')\n",
    "\n",
    "#Labels e tick params\n",
    "plt.xlabel('Data')\n",
    "plt.ylabel('Preço (USD)')\n",
    "plt.title('Preço por data')\n",
    "plt.tick_params(axis='x', rotation=70)\n",
    "\n",
    "#Dispersões com pontos de tamanho variável\n",
    "# Normalizando volumes da series 'volume'\n",
    "volume = volume/volume[0]\n",
    "\n",
    "# Criando dispersão com o tamanho dos pontos igual à series 'volume'\n",
    "plt.scatter(date, open, s=volume*300)\n",
    "\n",
    "#Labels e tick params\n",
    "plt.xlabel('Data')\n",
    "plt.ylabel('Preço (USD)')\n",
    "plt.title('Preço por data')\n",
    "plt.tick_params(axis='x', rotation=70)"
   ]
  }
 ],
 "metadata": {
  "kernelspec": {
   "display_name": "Python 3",
   "language": "python",
   "name": "python3"
  },
  "language_info": {
   "codemirror_mode": {
    "name": "ipython",
    "version": 2
   },
   "file_extension": ".py",
   "mimetype": "text/x-python",
   "name": "python",
   "nbconvert_exporter": "python",
   "pygments_lexer": "ipython2",
   "version": "2.7.6"
  }
 },
 "nbformat": 4,
 "nbformat_minor": 0
}