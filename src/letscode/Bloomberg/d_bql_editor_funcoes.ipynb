{
 "cells": [
  {
   "cell_type": "code",
   "execution_count": null,
   "metadata": {
    "collapsed": true
   },
   "outputs": [],
   "source": [
    "#Funções Universe Handler\n",
    "#list: lista de entidades individuais\n",
    "list(['NTDOF US Equity','SNE US Equity','MSFT US Equity'])\n",
    "#` ou apenas `\n",
    "['NTDOF US Equity','SNE US Equity','MSFT US Equity']\n",
    "#members: membros de um índice já pronto. Diferente de recuperar os dados do índice!\n",
    "members('SPX Index')\n",
    "#bonds: obrigações ou títulos de crédito de determinada entidade\n",
    "bonds('VOD US Equity')\n",
    "#loans: empréstimo de determinada entidade\n",
    "loans('VOD US Equity')\n",
    "#Funções matemáticas\n",
    "#Valor absoluto, abs() :\n",
    "abs(best_target_price - px_last)\n",
    "#Sinal, sign():\n",
    "sign(best_target_price - px_last)\n",
    "#Arredondamento para baixo, floor() :\n",
    "floor(px_last)\n",
    "#Arredondamento para cima, ceil() :\n",
    "ceil(px_last)\n",
    "#Quadrado, square() :\n",
    "square(px_ask - px_bid)\n",
    "#Raiz, sqrt():\n",
    "sqrt(px_ask - px_bid)\n",
    "#Resto, mod() :\n",
    "mod(px_last,7)\n",
    "#Logaritmo natural, ln():\n",
    "ln(px_last/px_last(start=-1D,end=-1D)-1)\n",
    "#Log na base 10, log() :\n",
    "log(px_last/px_last(start=-1D,end=-1D)-1)\n",
    "#Expoente, pow():\n",
    "pow(px_ask - px_bid,2)\n",
    "#Exponencial, exp() :\n",
    "exp(px_last)\n",
    "#Funções estatísticas\n",
    "#Count: número de valores não nulos em um data item\n",
    "count(px_last(dates=RANGE(2014-01-01, 2014-12-31)))\n",
    "#Min: valor mínimo de um data item\n",
    "min(px_last(dates=RANGE(-4D, 0D)))\n",
    "#Max: valor máximo de um data item\n",
    "max(px_last(dates=RANGE(2014-01-01, 2014-12-31)))\n",
    "#Average: média\n",
    "avg(px_last(dates=RANGE(2014-01-01, 2014-12-31)))\n",
    "#Median: mediana\n",
    "median(px_last(dates=RANGE(2014-01-01, 2014-12-31)))\n",
    "#Standard deviation: desvio padrão\n",
    "std(px_last(dates=RANGE(2014-01-01, 2014-12-31)))\n",
    "#R-Squared: r quadrado - indice estatístico de correlação entre 0 e 1\n",
    "rsq(px_ask(dates=RANGE(2014-01-01, 2014-12-31)), px_bid(dates=RANGE(2014-01-01, 2014-12-31)))\n",
    "#Correlation:\n",
    "corr(px_last(dates=RANGE(2014-01-01, 2014-12-31)), px_last(dates=RANGE(2014-01-01, 2014-12-31)))\n",
    "#Standard error:\n",
    "stderr(px_last(dates=RANGE(2014-01-01, 2014-12-31)), px_last(dates=RANGE(2014-01-01, 2014-12-31)))\n",
    "#Percentage change: mudança percentual\n",
    "pct_change(px_last(dates=RANGE(2014-01-01, 2014-12-31), fill=prev, frq=d))\n",
    "\n"
   ]
  }
 ],
 "metadata": {
  "kernelspec": {
   "display_name": "Python 3",
   "language": "python",
   "name": "python3"
  },
  "language_info": {
   "codemirror_mode": {
    "name": "ipython",
    "version": 2
   },
   "file_extension": ".py",
   "mimetype": "text/x-python",
   "name": "python",
   "nbconvert_exporter": "python",
   "pygments_lexer": "ipython2",
   "version": "2.7.6"
  }
 },
 "nbformat": 4,
 "nbformat_minor": 0
}