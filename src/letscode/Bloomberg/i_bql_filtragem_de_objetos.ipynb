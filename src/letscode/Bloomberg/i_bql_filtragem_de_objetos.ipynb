{
 "cells": [
  {
   "cell_type": "code",
   "execution_count": null,
   "metadata": {
    "collapsed": true
   },
   "outputs": [],
   "source": [
    "#Exemplos\n",
    "# Importando biblioteca\n",
    "import bql\n",
    "\n",
    "# Instanciando objeto\n",
    "bq = bql.Service()\n",
    "\n",
    "# Declarando data items\n",
    "item = bq.data.id()\n",
    "\n",
    "# Declarando universo\n",
    "univ = bq.univ.bonds('IBM US Equity')\n",
    "criterio1 = bq.data.cpn() > 5\n",
    "criterio2 = bq.data.yield() > 3\n",
    "criterios = bq.func.and_(criterio1, criterio2)\n",
    "\n",
    "# Filtrando universo\n",
    "univ_filtrado = bq.univ.filter(univ, criterios)\n",
    "\n",
    "# Definindo request por objeto\n",
    "request = bql.Request(univ_filtrado, item)\n",
    "\n",
    "# Executando request\n",
    "resposta = bq.execute(request)\n",
    "\n",
    "# Convertendo para um dataframe\n",
    "df = bql.combined_df(resposta)\n",
    "df.head()\n",
    "# Importando biblioteca\n",
    "import bql\n",
    "\n",
    "# Instanciando objeto\n",
    "bq = bql.Service()\n",
    "\n",
    "# Declarando data items\n",
    "item = bq.data.px_last()\n",
    "\n",
    "# Declarando universo\n",
    "univ = bq.univ.members('SPX Index')\n",
    "criterio = in(bq.data.eqy_fund_ind(), ['Bank', 'Financial', 'Insurance'])\n",
    "\n",
    "# Filtrando universo\n",
    "univ_filtrado = bq.univ.filter(univ, criterio)\n",
    "\n",
    "# Definindo request por objeto\n",
    "request = bql.Request(univ_filtrado, item)\n",
    "\n",
    "# Executando request\n",
    "resposta = bq.execute(request)\n",
    "\n",
    "# Convertendo para um dataframe\n",
    "df = bql.combined_df(resposta)\n",
    "df.head()\n"
   ]
  }
 ],
 "metadata": {
  "kernelspec": {
   "display_name": "Python 3",
   "language": "python",
   "name": "python3"
  },
  "language_info": {
   "codemirror_mode": {
    "name": "ipython",
    "version": 2
   },
   "file_extension": ".py",
   "mimetype": "text/x-python",
   "name": "python",
   "nbconvert_exporter": "python",
   "pygments_lexer": "ipython2",
   "version": "2.7.6"
  }
 },
 "nbformat": 4,
 "nbformat_minor": 0
}