{
 "cells": [
  {
   "cell_type": "code",
   "execution_count": null,
   "metadata": {
    "collapsed": true
   },
   "outputs": [],
   "source": [
    "#Filter\n",
    "#filter(): retorna apenas as IDs pedidas que atendem certa expressão lógica.\n",
    "filter(universo, predicado)\n",
    "\n",
    "#Predicados úteis:\n",
    "\n",
    "#in: verdadeiro se presente em uma lista\n",
    "cntry_of_domicile in ['BR', 'DE', 'FR']\n",
    "in(cntry_of_domicile,['BR', 'DE', 'FR'])\n",
    "#between: verdadeiro se o valor estiver em certo intervalo de valores\n",
    "#all: verdadeiro se a condição é verdadeira para todas as entidades do grupo\n",
    "#any: verdadeiro se a condição é verdadeira para qualquer entidade do grupo\n",
    "\n",
    "#Funções universo\n",
    "#equitiesUniv(): retorna todos ativos com um ou mais status e com determinado filtro\n",
    "\n",
    "#Sintaxe:\n",
    "filter(equitiesUniv('active', 'primary', 'all'), predicado)\n",
    "\n",
    "#Patrimônios ativos, primários ou todos disponíveis das entidades requisitadas.\n",
    "\n",
    "#bondsUniv(), loansUniv(), debtUniv(), fundsUniv()\n",
    "\n",
    "Exemplos\n",
    "# Filtrando bonds\n",
    "get(id)\n",
    "\n",
    "for(filter(bonds(['IBM US Equity']), cpn > 5 and yield > 3))\n",
    "\n",
    "# Filtrando membros de um Index\n",
    "get(px_last())\n",
    "\n",
    "for(filter(members(['SPX Index']), in(eqy_fund_ind, ['Bank', 'Financial', 'Insurance'])))\n",
    "\n",
    "# Filtrando universo de ativos\n",
    "get(id)\n",
    "\n",
    "for(filter(equitiesUniv(['active', 'primary']), gics_sector_name == 'Information Technology' and cntry_of_domicile == 'BR'))"
   ]
  }
 ],
 "metadata": {
  "kernelspec": {
   "display_name": "Python 3",
   "language": "python",
   "name": "python3"
  },
  "language_info": {
   "codemirror_mode": {
    "name": "ipython",
    "version": 2
   },
   "file_extension": ".py",
   "mimetype": "text/x-python",
   "name": "python",
   "nbconvert_exporter": "python",
   "pygments_lexer": "ipython2",
   "version": "2.7.6"
  }
 },
 "nbformat": 4,
 "nbformat_minor": 0
}