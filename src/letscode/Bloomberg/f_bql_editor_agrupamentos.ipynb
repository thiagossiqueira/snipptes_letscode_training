{
 "cells": [
  {
   "cell_type": "code",
   "execution_count": null,
   "metadata": {
    "collapsed": true
   },
   "outputs": [],
   "source": [
    "# Requisição base\n",
    "get( px_last( dates = range( -6D , -4D ) ) )\n",
    "for( [ 'UBER US Equity' , 'NFLX US Equity' , 'LYFT US Equity'] )\n",
    "\n",
    "# Calculando a média de cada ID\n",
    "get( avg( px_last( dates = range( -6D , -4D ) ) ) )\n",
    "for( [ 'UBER US Equity' , 'NFLX US Equity' , 'LYFT US Equity'] )\n",
    "\n",
    "# Agrupando em um único Identifier Boundary\n",
    "get( group( px_last( dates = range( -6D , -4D ) ) ) )\n",
    "for( [ 'UBER US Equity' , 'NFLX US Equity' , 'LYFT US Equity'] )\n",
    "\n",
    "# Calculando a média do único único Identifier Boundary\n",
    "get( avg(group( px_last( dates = range( -6D , -4D ) ) ) ))\n",
    "for( [ 'UBER US Equity' , 'NFLX US Equity' , 'LYFT US Equity'] )\n",
    "\n",
    "# Agrupando por país e depois calculando a mediana\n",
    "get( median(group( prof_margin , by = country_full_name )) )\n",
    "for( members([ 'SXXP Index']) )\n",
    "\n"
   ]
  }
 ],
 "metadata": {
  "kernelspec": {
   "display_name": "Python 3",
   "language": "python",
   "name": "python3"
  },
  "language_info": {
   "codemirror_mode": {
    "name": "ipython",
    "version": 2
   },
   "file_extension": ".py",
   "mimetype": "text/x-python",
   "name": "python",
   "nbconvert_exporter": "python",
   "pygments_lexer": "ipython2",
   "version": "2.7.6"
  }
 },
 "nbformat": 4,
 "nbformat_minor": 0
}