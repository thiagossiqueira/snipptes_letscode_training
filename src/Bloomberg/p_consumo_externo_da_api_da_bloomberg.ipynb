{
 "cells": [
  {
   "cell_type": "code",
   "execution_count": null,
   "metadata": {
    "collapsed": true
   },
   "outputs": [],
   "source": [
    "#Exemplos\n",
    "import pandas as pd\n",
    "from wrapperbloom import BBG # apenas a classe\n",
    "import matplotlib.pyplot as plt\n",
    "\n",
    "# Bloomberg data point\n",
    "bdp = BBG.fetch_contract_parameter('IBM US Equity', 'PX_LAST')\n",
    "bdp.head()\n",
    "\n",
    "# Bloomberg data history\n",
    "dados = BBG.fetch_series(\"IBOV INDEX\", [\"PX_LAST\", 'PX_OPEN'], \"2019-11-01\",\"2019-11-30\")\n",
    "dados.head()\n",
    "\n",
    "# Outro modo de plotar os dados, usando orientação ao objeto dados\n",
    "dados.plot()\n",
    "import pandas as pd\n",
    "from blpapiwrapper import * # todas as classes\n",
    "import matplotlib.pyplot as plt\n",
    "\n",
    "# Declarando objeto da classe BLP para usar os métodos em cima dele\n",
    "objeto = BLP()\n",
    "\n",
    "# Bloomberg data point\n",
    "objeto.bdp(strSecurity='IBM US Equity', strData='PX_LAST')\n",
    "\n",
    "# Bloomberg data history\n",
    "df = objeto.bdh(strSecurity='IBM US Equity', strData=['PX_LAST', 'PX_OPEN'], \\\n",
    " startdate=datetime.date(2019, 1, 1), enddate=datetime.date(2019, 7, 1))\n",
    "df.head()\n",
    "\n",
    "# Plotando dados\n",
    "df.plot()\n"
   ]
  }
 ],
 "metadata": {
  "kernelspec": {
   "display_name": "Python 3",
   "language": "python",
   "name": "python3"
  },
  "language_info": {
   "codemirror_mode": {
    "name": "ipython",
    "version": 2
   },
   "file_extension": ".py",
   "mimetype": "text/x-python",
   "name": "python",
   "nbconvert_exporter": "python",
   "pygments_lexer": "ipython2",
   "version": "2.7.6"
  }
 },
 "nbformat": 4,
 "nbformat_minor": 0
}