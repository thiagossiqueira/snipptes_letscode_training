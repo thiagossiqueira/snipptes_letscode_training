{
 "cells": [
  {
   "cell_type": "code",
   "execution_count": null,
   "metadata": {
    "collapsed": true
   },
   "outputs": [],
   "source": [
    "\"\"\"\n",
    "- IDEs e Instalações\n",
    "\n",
    "    Para instalar o Python basta abrir a {https://www.python.org/downloads/} do seu site oficial:\n",
    "    Após abrir o arquivo que foi baixado, selecione a opção \"Add Python [versão] to PATH\" na janela aberta e clique em \"Install Now\":\n",
    "    Siga os passos do instalador e você deverá ver um janela deste tipo indicando que o Python foi instalado com sucesso:\n",
    "\n",
    "    Seu primeiro programa\n",
    "    IDLE\n",
    "    O Python já vem instalado com um editor de texto chamado IDLE, que pode ser acessado no seu Menu Iniciar:\n",
    "    Antes de programar sua primeira linha, é preciso abrir um arquivo novo em \"File -> New File\":\n",
    "    Isso abrirá mais uma janela com o editor de texto, na qual você pode escrever print(\"Hello World\")!\n",
    "\n",
    "    Para rodar um código Python, basta salvá-lo com a extensão .py (como \"hello.py\") em \"File -> Save File\", e depois disso clicar em \"Run -> Run Module\" ou digitar F5 para rodar.\n",
    "\n",
    "    Você vai ver o que quer que o código tenha feito na primeira janela que você abriu ao procurar pelo IDLE!\n",
    "\n",
    "\"\"\""
   ]
  }
 ],
 "metadata": {
  "kernelspec": {
   "display_name": "Python 3",
   "language": "python",
   "name": "python3"
  },
  "language_info": {
   "codemirror_mode": {
    "name": "ipython",
    "version": 2
   },
   "file_extension": ".py",
   "mimetype": "text/x-python",
   "name": "python",
   "nbconvert_exporter": "python",
   "pygments_lexer": "ipython2",
   "version": "2.7.6"
  }
 },
 "nbformat": 4,
 "nbformat_minor": 0
}