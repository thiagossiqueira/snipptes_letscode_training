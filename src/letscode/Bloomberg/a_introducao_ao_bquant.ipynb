{
 "cells": [
  {
   "cell_type": "code",
   "execution_count": null,
   "metadata": {
    "collapsed": true
   },
   "outputs": [],
   "source": [
    "#\"BQUANT permite compartilhar internamente no Terminal com outras pessoas do mesma empresa...\".\n",
    "\n",
    "#Exemplos\n",
    "### Exemplo inicial\n",
    "\n",
    "# Importando a biblioteca BQL\n",
    "import bql\n",
    "# Importando a biblioteca bqviz\n",
    "import bqviz as bqv\n",
    "\n",
    "# Instanciando objeto com a interface do BQL\n",
    "bq = bql.Service()\n",
    "\n",
    "# Definindo lista de seguridades para o request\n",
    "entidades = ['MSFT US Equity', 'GE US Equity', 'BAC US Equity']\n",
    "\n",
    "# Definindo intervalo de tempo para o request\n",
    "intervalo = bq.func.range('2019-01-01', '2019-12-31')\n",
    "\n",
    "# Definindo item para o campo \"last price\",\n",
    "# passando o intervalo de datas e parâmetro de frequência como argumentos\n",
    "preco = bq.data.px_last(dates=intervalo, frq='D', fill='prev')\n",
    "\n",
    "# Gerando o request com o universo de seguridades e o item definido acima\n",
    "request = bql.Request(entidades, preco)\n",
    "\n",
    "# Executando o request\n",
    "resposta = bq.execute(request)\n",
    "\n",
    "# Convertendo para um dataframe\n",
    "df = resposta[0].df()\n",
    "\n",
    "# Verificando se funcionou\n",
    "df.head()\n",
    "\n",
    "# Renomeando colunas\n",
    "df.rename(columns={'DATE':'DATAS', 'CURRENCY':'CÂMBIO', 'PX_LAST(frq=PER.D,fill=FILL.prev,dates=RANGE(2019-01-01,2019-12-31))':'PREÇO'}, inplace=True)\n",
    "df.head()\n",
    "\n",
    "# Reindexando\n",
    "df.reset_index(inplace=True)\n",
    "df.head()\n",
    "\n",
    "# Reconfigurando colunas\n",
    "df_atualizado = df.pivot('DATAS', 'ID', 'PREÇO')\n",
    "df_atualizado\n",
    "\n",
    "# Limpando\n",
    "df_atualizado.dropna(inplace=True)\n",
    "\n",
    "# Plotando gráfico de linhas e setando o estilo\n",
    "linhas = bqv.LinePlot(df_atualizado).set_style()\n",
    "linhas\n",
    "linhas.show()"
   ]
  }
 ],
 "metadata": {
  "kernelspec": {
   "display_name": "Python 3",
   "language": "python",
   "name": "python3"
  },
  "language_info": {
   "codemirror_mode": {
    "name": "ipython",
    "version": 2
   },
   "file_extension": ".py",
   "mimetype": "text/x-python",
   "name": "python",
   "nbconvert_exporter": "python",
   "pygments_lexer": "ipython2",
   "version": "2.7.6"
  }
 },
 "nbformat": 4,
 "nbformat_minor": 0
}