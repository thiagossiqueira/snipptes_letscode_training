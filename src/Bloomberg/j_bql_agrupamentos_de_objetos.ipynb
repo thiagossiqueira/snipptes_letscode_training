{
 "cells": [
  {
   "cell_type": "code",
   "execution_count": null,
   "metadata": {
    "collapsed": true
   },
   "outputs": [],
   "source": [
    "#Exemplos\n",
    "# Importando biblioteca\n",
    "import bql\n",
    "\n",
    "# Instanciando objeto\n",
    "bq = bql.Service()\n",
    "\n",
    "# Declarando data items e agrupando-os\n",
    "item = bq.data.px_last(dates=bq.func.range('-2D', '0D'))\n",
    "grupo = bq.func.group(item)\n",
    "item_atualizado = bq.func.avg(grupo)\n",
    "\n",
    "# Declarando universo\n",
    "univ = ['UBER US Equity', 'NFLX US Equity', 'LYFT US Equity']\n",
    "\n",
    "# Definindo request por objeto\n",
    "request = bql.Request(univ, item_atualizado)\n",
    "\n",
    "# Executando request\n",
    "resposta = bq.execute(request)\n",
    "\n",
    "# Convertendo para um dataframe\n",
    "df = bql.combined_df(resposta)\n",
    "df.head()\n",
    "# Importando biblioteca\n",
    "import bql\n",
    "\n",
    "# Instanciando objeto\n",
    "bq = bql.Service()\n",
    "\n",
    "# Declarando data items e agrupando-os\n",
    "item = bq.data.prof_margin()\n",
    "country = bq.data.country_full_name()\n",
    "grupo = bq.func.group(item, by=country)\n",
    "item_atualizado = bq.func.median(grupo)\n",
    "# item_atualizado = item.group(by=country).median()\n",
    "\n",
    "# Declarando universo\n",
    "univ = bq.univ.members(['SXXP Index'])\n",
    "\n",
    "# Definindo request por objeto\n",
    "request = bql.Request(univ, item_atualizado)\n",
    "\n",
    "# Executando request\n",
    "resposta = bq.execute(request)\n",
    "\n",
    "# Convertendo para um dataframe\n",
    "df = bql.combined_df(resposta)\n",
    "df.head()\n",
    "\n"
   ]
  }
 ],
 "metadata": {
  "kernelspec": {
   "display_name": "Python 3",
   "language": "python",
   "name": "python3"
  },
  "language_info": {
   "codemirror_mode": {
    "name": "ipython",
    "version": 2
   },
   "file_extension": ".py",
   "mimetype": "text/x-python",
   "name": "python",
   "nbconvert_exporter": "python",
   "pygments_lexer": "ipython2",
   "version": "2.7.6"
  }
 },
 "nbformat": 4,
 "nbformat_minor": 0
}