{
 "cells": [
  {
   "cell_type": "code",
   "execution_count": null,
   "metadata": {
    "collapsed": true,
    "pycharm": {
     "name": "#%%\n"
    }
   },
   "outputs": [],
   "source": [
    "\"\"\"\n",
    "- IDEs e Instalações\n",
    "- Instalação\n",
    "\n",
    "    Para instalar o Python basta abrir a {https://www.python.org/downloads/} do seu site oficial:\n",
    "    Após abrir o arquivo que foi baixado, selecione a opção \"Add Python [versão] to PATH\" na janela aberta e clique em \"Install Now\":\n",
    "    Siga os passos do instalador e você deverá ver um janela deste tipo indicando que o Python foi instalado com sucesso:\n",
    "\n",
    "    Seu primeiro programa\n",
    "    IDLE\n",
    "    O Python já vem instalado com um editor de texto chamado IDLE, que pode ser acessado no seu Menu Iniciar:\n",
    "    Antes de programar sua primeira linha, é preciso abrir um arquivo novo em \"File -> New File\":\n",
    "    Isso abrirá mais uma janela com o editor de texto, na qual você pode escrever print(\"Hello World\")!\n",
    "\n",
    "    Para rodar um código Python, basta salvá-lo com a extensão .py (como \"hello.py\") em \"File -> Save File\", e depois disso clicar em \"Run -> Run Module\" ou digitar F5 para rodar.\n",
    "\n",
    "    Você vai ver o que quer que o código tenha feito na primeira janela que você abriu ao procurar pelo IDLE!\n",
    "\n",
    "\n",
    "- Linguagem, IDE e Compilador\n",
    "\n",
    "BQuant\n",
    "Nós conduziremos os dois primeiros módulos do curso no VS Code. Se você preferir utilizar a própria plataforma da Bloomberg para programar, veja as instruções no vídeo abaixo:\n",
    "\n",
    "IDE - Conceito\n",
    "IDE, do inglês Integrated Development Environment (ambiente integrado de desenvolvimento), nada mais é do que um programa de computador que reúne características e ferramentas de apoio ao desenvolvimento de software com o objetivo de agilizar o trabalho do dia a dia. Uma boa IDE provê syntax highliter (deixar a sintaxe da linguagem colorida ou destacada), code ahead (sugerindo os próximos passos ou o que colocar em vada método) e diversas outras ferramentas.\n",
    "\n",
    "O VS Code\n",
    "O VS Code, ou Visual Studio Code é uma IDE da Microsoft, open source e gratuita, leve, que ajuda a programar em diversas linguagens, entre elas Python!\n",
    "\n",
    "Instalando o VS Code\n",
    "Para instalar o VS Code basta abrir o seu site oficial e clicar no botão de download no canto superior direito da tela:\n",
    "\n",
    "Selecione o seu sistema operacional na próxima tela (por exemplo, estamos seguindo com o Windows), baixe e execute o passo a passo.\n",
    "\n",
    "Na última tela, marque todos os checkboxes para habilitar todas as opções!\n",
    "\n",
    "último passo\n",
    "\n",
    "Instalando extensões\n",
    "O VS Code é um poderoso editor de texto não só por ser bastante leve mas por ser extensível. O que significa isso? Que temos uma comunidade gigante criando extensões para ele, que são como se fossem poderes extras para a sua IDE.\n",
    "\n",
    "Extensão 1: Python\n",
    "Inicialmente, vamos ensinar o VSCode a trabalhar com Python!\n",
    "\n",
    "Para isso, basta clicar no nosso botão de extensões, na barra lateral do VS Code:\n",
    "\n",
    "Pesquisar pela palavrinha Python e clicar em instalar na primeira opção!\n",
    "\n",
    "Python: Como rodar um arquivo .py\n",
    "Para rodar um código Python, basta abri-lo no VS Code e clicar em Run -> Start Debugging ou ainda apenas digitar F5.\n",
    "\n",
    "Atalhos rápidos\n",
    "F5: Rodar código;\n",
    "\n",
    "Ctrl + S: Salvar arquivo;\n",
    "\n",
    "Shift + Up/Down: Seleciona várias linhas de uma vez;\n",
    "\n",
    "\"Ctrl + d\" ao selecionar uma palavra: Procura por outras instâncias da palavra/variável.\n",
    "\n",
    "Extensão 2: Jupyter\n",
    "No mesmo lugar que você procurou por Python, procure por \"Jupyter\" e clique em instalar na primeira opção.\n",
    "\n",
    "Essa extensão lida com arquivos .ipynb, assim como o terminal BQuant da Bloomberg, explicado no segundo vídeo desse passo. Você poderá escrever seu código segmentando-o em células, o que permite rodar apenas parte dele a cada vez que executar uma célula. Também é possível fazer anotações no formato Markdown, clicando no \"M\" no topo da célula.\n",
    "\"\"\"\n",
    "\n",
    "\n",
    "\n"
   ]
  }
 ],
 "metadata": {
  "kernelspec": {
   "display_name": "Python 3",
   "language": "python",
   "name": "python3"
  },
  "language_info": {
   "codemirror_mode": {
    "name": "ipython",
    "version": 2
   },
   "file_extension": ".py",
   "mimetype": "text/x-python",
   "name": "python",
   "nbconvert_exporter": "python",
   "pygments_lexer": "ipython2",
   "version": "2.7.6"
  }
 },
 "nbformat": 4,
 "nbformat_minor": 0
}