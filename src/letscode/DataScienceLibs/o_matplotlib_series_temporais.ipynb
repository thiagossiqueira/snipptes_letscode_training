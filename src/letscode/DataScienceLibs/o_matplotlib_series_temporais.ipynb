{
 "cells": [
  {
   "cell_type": "code",
   "execution_count": null,
   "metadata": {
    "collapsed": true
   },
   "outputs": [],
   "source": [
    "import numpy as np\n",
    "import pandas as pd\n",
    "import matplotlib.pyplot as plt\n",
    "%matplotlib inline\n",
    "\n",
    "\n",
    "import matplotlib.dates as mpl_dates\n",
    "import datetime\n",
    "\n",
    "# Criando objeto da datetime com a data\n",
    "d = datetime.date(2020, 5, 8)\n",
    "\n",
    "# Acessando o dia de hoje\n",
    "t = datetime.date.today()\n",
    "\n",
    "# Calculando intervalo de tempo e acessando seu atributo\n",
    "deltat = t-d\n",
    "deltat.days\n",
    "\n",
    "#Criando intervalo de tempo especificando o intervalo\n",
    "deltat1 = datetime.timedelta(seconds=1000)\n",
    "\n",
    "# Convertendo data inicial para string com \"Mês dia, Ano\"\n",
    "d.strftime('%B %d, %Y')\n",
    "\n",
    "# Convertendo de volta\n",
    "string = 'May 08, 2020'\n",
    "dt = datetime.datetime.strptime(string, '%B %d, %Y')\n",
    "\n",
    "# Importando dados\n",
    "df = pd.read_csv('microsoft.csv')\n",
    "open = df.loc[:10]['Open']\n",
    "datas = df.loc[:10]['Date']\n",
    "\n",
    "# Convertendo dataframe para datetime\n",
    "datas = pd.to_datetime(datas)\n",
    "\n",
    "# Ordenando valores\n",
    "datas.sort_values(inplace=True)\n",
    "\n",
    "# Formatando datas\n",
    "formato = mpl_dates.DateFormatter('%B %d, %Y')\n",
    "\n",
    "# Incluindo formatação no eixo x da plot\n",
    "plt.gca().xaxis.set_major_formatter(formato)\n",
    "\n",
    "# Plotando gráfico com formatação\n",
    "plt.plot_date(datas, open)\n",
    "plt.tick_params(axis='x', rotation=30)\n"
   ]
  }
 ],
 "metadata": {
  "kernelspec": {
   "display_name": "Python 3",
   "language": "python",
   "name": "python3"
  },
  "language_info": {
   "codemirror_mode": {
    "name": "ipython",
    "version": 2
   },
   "file_extension": ".py",
   "mimetype": "text/x-python",
   "name": "python",
   "nbconvert_exporter": "python",
   "pygments_lexer": "ipython2",
   "version": "2.7.6"
  }
 },
 "nbformat": 4,
 "nbformat_minor": 0
}