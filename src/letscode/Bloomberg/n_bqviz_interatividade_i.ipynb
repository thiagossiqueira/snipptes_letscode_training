{
 "cells": [
  {
   "cell_type": "code",
   "execution_count": null,
   "metadata": {
    "collapsed": true
   },
   "outputs": [],
   "source": [
    "#Exemplos\n",
    "# Bibliotecas\n",
    "from bqplot import pyplot as plt\n",
    "import bql\n",
    "import bqviz as bqv\n",
    "import pandas as pd\n",
    "\n",
    "# Instanciando objeto\n",
    "bq = bql.Service()\n",
    "\n",
    "# Definindo parâmetros e data items\n",
    "params = {'dates':'range(2016-01-01, 2017-01-01)', 'fill':'next'}\n",
    "px_open = bq.data.px_open(**params)\n",
    "px_last = bq.data.px_last(**params)\n",
    "px_high = bq.data.px_high(**params)\n",
    "px_low = bq.data.px_low(**params)\n",
    "\n",
    "# Dicionário para os indices do dataframe\n",
    "items_dic = {'open':px_open, 'last':px_last, 'high':px_high, 'low':px_low}\n",
    "\n",
    "# Gerando e executando request\n",
    "request = bql.Request('IBM US Equity', items_dic)\n",
    "resposta = bq.execute(request)\n",
    "\n",
    "# Transformando em um dataframe\n",
    "df = bql.combined_df(resposta)\n",
    "df.set_index('DATE', inplace=True)\n",
    "\n",
    "# Removendo coluna de cambios\n",
    "df.drop('CURRENCY', axis=1, inplace=True)\n",
    "df.head()\n",
    "\n",
    "# Resetando indices numericos\n",
    "df.reset_index(inplace=True)\n",
    "\n",
    "# Plot interativa\n",
    "#linhas = bqv.InteractiveLinePlot(df)\n",
    "linhas = bqv.InteractiveScatterPlot(df, hide_controls=True)\n",
    "linhas.show()\n",
    "\n",
    "# Acessando controles\n",
    "linhas._xsel\n",
    "linhas._ysel\n",
    "\n",
    "# Modificando eixo y\n",
    "linhas.y = 'open'\n",
    "\n"
   ]
  }
 ],
 "metadata": {
  "kernelspec": {
   "display_name": "Python 3",
   "language": "python",
   "name": "python3"
  },
  "language_info": {
   "codemirror_mode": {
    "name": "ipython",
    "version": 2
   },
   "file_extension": ".py",
   "mimetype": "text/x-python",
   "name": "python",
   "nbconvert_exporter": "python",
   "pygments_lexer": "ipython2",
   "version": "2.7.6"
  }
 },
 "nbformat": 4,
 "nbformat_minor": 0
}