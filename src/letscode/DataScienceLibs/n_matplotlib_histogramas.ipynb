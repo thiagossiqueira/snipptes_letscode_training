{
 "cells": [
  {
   "cell_type": "code",
   "execution_count": null,
   "metadata": {
    "collapsed": true
   },
   "outputs": [],
   "source": [
    "import numpy as np\n",
    "import pandas as pd\n",
    "import matplotlib.pyplot as plt\n",
    "%matplotlib inline\n",
    "\n",
    "# Importando dados\n",
    "df = pd.read_csv('ads.csv', delimiter=';')\n",
    "age = df['Age']\n",
    "\n",
    "# Definindo bins\n",
    "intervalo = [10, 20, 30, 40, 50, 60, 70]\n",
    "\n",
    "# Criando histograma\n",
    "plt.hist(age, bins=intervalo, edgecolor='black')\n",
    "\n",
    "# Adicionando linha vertical com mediana\n",
    "mediana = df['Age'].median()\n",
    "plt.axvline(mediana, color='r', label='Mediana das Idades', linewidth=2)\n",
    "\n",
    "# Deixando o gráfico mais estiloso\n",
    "plt.style.use('fivethirtyeight')\n",
    "\n",
    "# Labels\n",
    "plt.xlabel('Idade')\n",
    "plt.ylabel('Total de pessoas')\n",
    "plt.title('Histograma de idades')\n",
    "\n",
    "# Layout mais apresentável\n",
    "plt.tight_layout()\n"
   ]
  }
 ],
 "metadata": {
  "kernelspec": {
   "display_name": "Python 3",
   "language": "python",
   "name": "python3"
  },
  "language_info": {
   "codemirror_mode": {
    "name": "ipython",
    "version": 2
   },
   "file_extension": ".py",
   "mimetype": "text/x-python",
   "name": "python",
   "nbconvert_exporter": "python",
   "pygments_lexer": "ipython2",
   "version": "2.7.6"
  }
 },
 "nbformat": 4,
 "nbformat_minor": 0
}