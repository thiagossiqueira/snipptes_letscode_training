{
 "cells": [
  {
   "cell_type": "code",
   "execution_count": null,
   "metadata": {
    "collapsed": true
   },
   "outputs": [],
   "source": [
    "#Roteiro\n",
    "#1) Importar biblioteca BQL usando import bql\n",
    "\n",
    "#Mesmo que Numpy, Pandas, Matplotlib\n",
    "\n",
    "#2) Instanciar objeto da classe Service usando bq = bql.Service()\n",
    "\n",
    "#Vamos chamar métodos dessa classe através do objeto.\n",
    "\n",
    "#3) Definir string para o request usando request = \"get(data fields)for([security or universe])\"\n",
    "\n",
    "#Isso gerará o request com os respectivos data items e entidades financeiras.\n",
    "\n",
    "#4) Instanciar a execução de um request em uma variável usando response = bq.execute(request)\n",
    "\n",
    "#Essa variável recebe todos os dados que vamos analisar e poderá ser convertida em um dataframe.\n",
    "\n",
    "#Exemplo\n",
    "# Importando biblioteca\n",
    "import bql\n",
    "\n",
    "# Instanciando objeto\n",
    "bq = bql.Service()\n",
    "\n",
    "# Definindo string com o request\n",
    "request = \"get(px_last, px_open) for(['FB US Equity', 'IBM US Equity'])\"\n",
    "\n",
    "# Executando request\n",
    "resposta = bq.execute(request)\n",
    "\n",
    "# Convertendo para um dataframe\n",
    "#df = resposta[0].df()\n",
    "df = bql.combined_df(resposta)\n",
    "\n",
    "df.head()\n"
   ]
  }
 ],
 "metadata": {
  "kernelspec": {
   "display_name": "Python 3",
   "language": "python",
   "name": "python3"
  },
  "language_info": {
   "codemirror_mode": {
    "name": "ipython",
    "version": 2
   },
   "file_extension": ".py",
   "mimetype": "text/x-python",
   "name": "python",
   "nbconvert_exporter": "python",
   "pygments_lexer": "ipython2",
   "version": "2.7.6"
  }
 },
 "nbformat": 4,
 "nbformat_minor": 0
}