{
 "cells": [
  {
   "cell_type": "code",
   "execution_count": null,
   "metadata": {
    "collapsed": true
   },
   "outputs": [],
   "source": [
    "import numpy as np\n",
    "import pandas as pd\n",
    "import matplotlib.pyplot as plt\n",
    "%matplotlib inline\n",
    "\n",
    "# Criando dados\n",
    "lista_valores = [10e6, 20e6, 30e6, 40e6]\n",
    "lista_ativos = ['Microsoft', 'Apple', 'Amazon', 'Zoom']\n",
    "\n",
    "# Passando para um dicionario\n",
    "dicionario = {}\n",
    "for i, elemento in enumerate(lista_valores):\n",
    "    chave = lista_ativos[i]\n",
    "    dicionario[chave] = elemento\n",
    "\n",
    "# Definindo explosão para o segundo elemento\n",
    "explosao = [0, 0.1, 0, 0]\n",
    "\n",
    "# Criando setores com explosão\n",
    "plt.pie(dicionario.values(), labels=dicionario.keys(), shadow=True, autopct='%1.0f%%', explode=explosao, wedgeprops={'edgecolor':'black'})\n",
    "\n",
    "# Labels\n",
    "plt.title('Volume de ativos')\n"
   ]
  }
 ],
 "metadata": {
  "kernelspec": {
   "display_name": "Python 3",
   "language": "python",
   "name": "python3"
  },
  "language_info": {
   "codemirror_mode": {
    "name": "ipython",
    "version": 2
   },
   "file_extension": ".py",
   "mimetype": "text/x-python",
   "name": "python",
   "nbconvert_exporter": "python",
   "pygments_lexer": "ipython2",
   "version": "2.7.6"
  }
 },
 "nbformat": 4,
 "nbformat_minor": 0
}