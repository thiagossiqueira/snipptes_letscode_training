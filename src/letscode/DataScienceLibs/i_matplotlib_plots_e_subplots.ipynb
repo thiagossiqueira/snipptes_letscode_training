{
 "cells": [
  {
   "cell_type": "code",
   "execution_count": null,
   "metadata": {
    "collapsed": true
   },
   "outputs": [],
   "source": [
    "#Plots em uma mesma figura\n",
    "import numpy as np\n",
    "import pandas as pd\n",
    "import matplotlib.pyplot as plt\n",
    "%matplotlib inline\n",
    "\n",
    "\n",
    "# Importando dataframe e guardando em variaveis\n",
    "df = pd.read_csv('microsoft.csv')\n",
    "open = df.loc[1:10]['Open']\n",
    "high = df.loc[1:10]['High']\n",
    "low = df.loc[1:10]['Low']\n",
    "date = df.loc[1:10]['Date']\n",
    "\n",
    "\n",
    "# Fazendo os três plots em um mesmo gráfico\n",
    "plt.plot(date, open, 'r--', label='Open')\n",
    "plt.plot(date, high, 'g-.', label='High')\n",
    "plt.plot(date, low, 'b', label='Low')\n",
    "\n",
    "# Labels\n",
    "plt.xlabel('Data')\n",
    "plt.ylabel('Preço (USD)')\n",
    "plt.title('Preço por data')\n",
    "plt.legend()\n",
    "\n",
    "# Rotacionando datas no eixo x\n",
    "plt.tick_params(axis='x', rotation=70)\n",
    "\n",
    "#Subplots\n",
    "import numpy as np\n",
    "import pandas as pd\n",
    "import matplotlib.pyplot as plt\n",
    "%matplotlib inline\n",
    "\n",
    "# Criando dois subplots em uma mesma figura\n",
    "fig, (ax1, ax2) = plt.subplots(ncols=2)\n",
    "\n",
    "# Dois plots no subplot 1\n",
    "ax1.plot(date, open, 'r--', label='Open')\n",
    "ax1.plot(date, high, 'g-.', label='High')\n",
    "\n",
    "# Um plot no subplot 2\n",
    "ax2.plot(date, low, 'b', label='Low')\n",
    "\n",
    "# Labels\n",
    "ax1.set_xlabel('Data')\n",
    "ax1.set_ylabel('Preço (USD)')\n",
    "ax2.set_xlabel('Data')\n",
    "\n",
    "ax1.set_title('Preço por data')\n",
    "ax2.set_title('Preço por data')\n",
    "\n",
    "ax1.legend()\n",
    "ax2.legend()\n",
    "\n",
    "ax1.tick_params(axis='x', rotation=70)\n",
    "ax2.tick_params(axis='x', rotation=70)\n"
   ]
  }
 ],
 "metadata": {
  "kernelspec": {
   "display_name": "Python 3",
   "language": "python",
   "name": "python3"
  },
  "language_info": {
   "codemirror_mode": {
    "name": "ipython",
    "version": 2
   },
   "file_extension": ".py",
   "mimetype": "text/x-python",
   "name": "python",
   "nbconvert_exporter": "python",
   "pygments_lexer": "ipython2",
   "version": "2.7.6"
  }
 },
 "nbformat": 4,
 "nbformat_minor": 0
}