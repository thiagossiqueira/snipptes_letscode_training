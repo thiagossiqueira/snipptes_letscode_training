{
 "cells": [
  {
   "cell_type": "code",
   "execution_count": null,
   "metadata": {
    "collapsed": true
   },
   "outputs": [],
   "source": [
    "\"\"\"\n",
    "Parâmetros\n",
    "Data de referência: o dia, mês, ano ou período que queremos\n",
    "fa_period_reference = '2014'\n",
    "Periodicidade: anual, mensal, diária...\n",
    "fa_period_type = 'A'\n",
    "Deslocamento de período: um pouco antes e um pouco depois\n",
    "fa_period_offset = bq.func.range(-1, 2)\n",
    "Data de revisão: a data no qual o dado foi reportado\n",
    "revision_date\n",
    "Data limite para revisão: queremos que o dado tenha sido reportado antes desta data\n",
    "as_of_date\n",
    "Final do período: data associada ao final do período que pedimos\n",
    "period_end_date\n",
    "\n",
    "\"\"\"\n",
    "#Exemplo\n",
    "# Sintaxe normal\n",
    "# get(SALES_GROWTH(dates=range(start=2012-01-01, end=2015-01-01, frqstep=1, frq=Y)))\n",
    "\n",
    "# Usando os períodos\n",
    "get(SALES_GROWTH(fa_period_type=A, as_of_date=2020-02-24, fa_period_offset=RANGE(-3,0), fa_period_reference=2015-01-01) )\n",
    "for(['DIS US Equity', 'BAC US Equity', 'PETR4 BZ Equity'])"
   ]
  }
 ],
 "metadata": {
  "kernelspec": {
   "display_name": "Python 3",
   "language": "python",
   "name": "python3"
  },
  "language_info": {
   "codemirror_mode": {
    "name": "ipython",
    "version": 2
   },
   "file_extension": ".py",
   "mimetype": "text/x-python",
   "name": "python",
   "nbconvert_exporter": "python",
   "pygments_lexer": "ipython2",
   "version": "2.7.6"
  }
 },
 "nbformat": 4,
 "nbformat_minor": 0
}